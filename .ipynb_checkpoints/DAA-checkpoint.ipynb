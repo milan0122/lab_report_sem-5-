{
 "cells": [
  {
   "cell_type": "code",
   "execution_count": 14,
   "id": "7bddbf41",
   "metadata": {},
   "outputs": [
    {
     "name": "stdout",
     "output_type": "stream",
     "text": [
      "enter the number5\n",
      "enter the second number10\n",
      "The GCD of two number 5 and 10 is  5\n"
     ]
    }
   ],
   "source": [
    "# gcd of two numbers by Euclid's algorithm:\n",
    "def gcd(n,m):\n",
    "    if m == 0:\n",
    "        return n\n",
    "    else:\n",
    "        return gcd(n,n%m)\n",
    "def main():\n",
    "    x = int(input(\"enter the number\"))\n",
    "    y = int(input(\"enter the second number\"))\n",
    "    c = gcd(x,y)\n",
    "    print(f\"The GCD of two number {x} and {y} is \",c)\n",
    "main()"
   ]
  },
  {
   "cell_type": "code",
   "execution_count": 17,
   "id": "80588578",
   "metadata": {},
   "outputs": [
    {
     "name": "stdout",
     "output_type": "stream",
     "text": [
      "enter the number36\n",
      "enter the second number24\n",
      "GCD:: 12\n"
     ]
    }
   ],
   "source": [
    "#gcd of two number using iterative function:\n",
    "def gcd(a,b):\n",
    "    if a == 0:\n",
    "        print(\"GCD::\",b)\n",
    "    elif b == 0:\n",
    "        print(\"GCD::\", a)\n",
    "    else:\n",
    "        while b != 0:\n",
    "            r = a % b\n",
    "            a = b\n",
    "            b = r\n",
    "        print(\"GCD::\",a)\n",
    "x = int(input(\"enter the number::\"))\n",
    "y = int(input(\"enter the second number::\"))\n",
    "gcd(x,y)\n"
   ]
  },
  {
   "cell_type": "code",
   "execution_count": 23,
   "id": "351dea9b",
   "metadata": {},
   "outputs": [
    {
     "name": "stdout",
     "output_type": "stream",
     "text": [
      "enter the number of terms of fibonacci series to be printed ::5\n",
      "0\n",
      "1\n",
      "1\n",
      "2\n",
      "3\n"
     ]
    }
   ],
   "source": [
    "# Fibonacci Series\n",
    "def fib(x,y,n):\n",
    "    while n != 0:\n",
    "        r = x + y\n",
    "        x = y\n",
    "        y = r\n",
    "        n = n - 1\n",
    "        print(r,\",\")\n",
    "    \n",
    "x = 0\n",
    "y = 1\n",
    "n = int(input(\"enter the number of terms of fibonacci series to be printed ::\"))\n",
    "print(x)\n",
    "print(y)\n",
    "fib(x,y,n-2)"
   ]
  },
  {
   "cell_type": "code",
   "execution_count": 1,
   "id": "a7e88826",
   "metadata": {},
   "outputs": [
    {
     "name": "stdout",
     "output_type": "stream",
     "text": [
      "enter the how many element you want to insert::3\n",
      "enter the value:2\n",
      "enter the value:4\n",
      "enter the value:5\n",
      "[2, 4, 5]\n"
     ]
    }
   ],
   "source": [
    "#Sequential serach\n",
    "#def sequential(x):\n",
    "    #pass\n",
    "slist = []\n",
    "n = int(input(\"enter the how many element you want to insert::\"))\n",
    "for x in range(n):\n",
    "    x = int(input(\"enter the value:\"))\n",
    "    slist.append(x)\n",
    "print(slist)"
   ]
  },
  {
   "cell_type": "code",
   "execution_count": 5,
   "id": "21a3c554",
   "metadata": {},
   "outputs": [
    {
     "name": "stdout",
     "output_type": "stream",
     "text": [
      "enter the searching element30\n",
      "element is not found\n"
     ]
    }
   ],
   "source": [
    "y = int(input(\"enter the searching element\"))\n",
    "slist = [4,6,7,2,9,90,234,23,400]\n",
    "\n",
    "if y in slist:\n",
    "    print(\"element is found\")\n",
    "else:\n",
    "    print(\"element is not found\")"
   ]
  },
  {
   "cell_type": "markdown",
   "id": "e7f419d3",
   "metadata": {},
   "source": [
    "### Bubble sort\n"
   ]
  },
  {
   "cell_type": "code",
   "execution_count": 3,
   "id": "5dcf779f",
   "metadata": {},
   "outputs": [
    {
     "name": "stdout",
     "output_type": "stream",
     "text": [
      "enter the numbers of elements::5\n",
      "enter the numbers:\n",
      "5\n",
      "6\n",
      "2\n",
      "4\n",
      "3\n",
      "orginal list: [5, 6, 2, 4, 3]\n",
      "\n",
      "Sorted Array: [2, 3, 4, 5, 6]\n",
      "\n",
      "Number of steps: 10\n"
     ]
    }
   ],
   "source": [
    "class bubblesort:\n",
    "    def __init__(self,arr):\n",
    "        self.arr=arr\n",
    "        self.step=0\n",
    "    def bsort(self):\n",
    "        n = len(self.arr)\n",
    "        for i in range(n):\n",
    "            swapped = False\n",
    "            for j in range(0,n-i-1):\n",
    "                self.step += 1\n",
    "                if self.arr[j] > self.arr[j +1]:\n",
    "                    self.arr[j], self.arr[j+1] = self.arr[j+1],self.arr[j]\n",
    "                    swapped = True\n",
    "            if not swapped:\n",
    "                    break\n",
    "    def display(self):\n",
    "        return self.arr\n",
    "    def get_steps(self):\n",
    "        return self.step\n",
    "my_list = []\n",
    "n = int(input(\"enter the numbers of elements::\"))\n",
    "print(\"enter the numbers:\")\n",
    "for i in range(n):\n",
    "    x = int(input())\n",
    "    my_list.append(x)\n",
    "print(\"orginal list:\",my_list)\n",
    "bubble_sort = bubblesort(my_list)\n",
    "bubble_sort.bsort()\n",
    "print(\"\\nSorted Array:\",bubble_sort.display())\n",
    "print(\"\\nNumber of steps:\",bubble_sort.get_steps())"
   ]
  },
  {
   "cell_type": "code",
   "execution_count": 14,
   "id": "0004e7ee",
   "metadata": {},
   "outputs": [
    {
     "name": "stdout",
     "output_type": "stream",
     "text": [
      "Orginal list::  [1, 2, 4, 4, 5, 7, 8]\n",
      "Steps taken::  21\n"
     ]
    }
   ],
   "source": [
    "#implementation of selection sort and their emprical analysis\n",
    "def selection_sort(arr,n):\n",
    "    steps = 0\n",
    "    for i in range(n):\n",
    "        index = i\n",
    "        temp = arr[i]\n",
    "        for j in range(i+1,n):\n",
    "            steps += 1#couting each comparison as a step\n",
    "            if(arr[j]<temp):\n",
    "                index = j\n",
    "                temp = arr[j]\n",
    "        #swapping the element\n",
    "        arr[i],arr[index]=arr[index],arr[i]\n",
    "    return arr,steps\n",
    "my_list = [5,4,7,1,8,4,2]\n",
    "n = len(my_list)\n",
    "sorted_list,steps_taken = selection_sort(my_list,n)\n",
    "\n",
    "print(\"Orginal list:: \",my_list)\n",
    "print(\"Steps taken:: \",steps_taken)"
   ]
  },
  {
   "cell_type": "markdown",
   "id": "32a084f0",
   "metadata": {},
   "source": [
    "### Insertion sort"
   ]
  },
  {
   "cell_type": "code",
   "execution_count": 24,
   "id": "3fedec95",
   "metadata": {},
   "outputs": [
    {
     "name": "stdout",
     "output_type": "stream",
     "text": [
      "Orginal list::  [1, 2, 4, 4, 5, 7, 8]\n",
      "Steps taken::  12\n"
     ]
    }
   ],
   "source": [
    "def insertion_sort(arr,n):\n",
    "    steps = 0\n",
    "    for i in range(n):\n",
    "        j = i-1\n",
    "        temp = arr[i]\n",
    "        while j>=0 and arr[j]>temp:\n",
    "            steps +=1\n",
    "            arr[j+1]=arr[j]\n",
    "            j = j-1\n",
    "        arr[j+1]=temp\n",
    "    return arr,steps\n",
    "my_list = [5,4,7,1,8,4,2]\n",
    "n = len(my_list)\n",
    "sorted_list,steps_taken = insertion_sort(my_list,n)\n",
    "\n",
    "print(\"Orginal list:: \",my_list)\n",
    "print(\"Steps taken:: \",steps_taken)"
   ]
  },
  {
   "cell_type": "code",
   "execution_count": null,
   "id": "d4dc8dda",
   "metadata": {},
   "outputs": [],
   "source": []
  },
  {
   "cell_type": "code",
   "execution_count": 4,
   "id": "ab234ecf",
   "metadata": {},
   "outputs": [
    {
     "data": {
      "text/plain": [
       "121"
      ]
     },
     "execution_count": 4,
     "metadata": {},
     "output_type": "execute_result"
    }
   ],
   "source": []
  },
  {
   "cell_type": "code",
   "execution_count": null,
   "id": "74028e31",
   "metadata": {},
   "outputs": [],
   "source": []
  },
  {
   "cell_type": "code",
   "execution_count": null,
   "id": "00d05d86",
   "metadata": {},
   "outputs": [],
   "source": []
  },
  {
   "cell_type": "code",
   "execution_count": null,
   "id": "f86a3f45",
   "metadata": {},
   "outputs": [],
   "source": []
  },
  {
   "cell_type": "code",
   "execution_count": null,
   "id": "b7f5c9c0",
   "metadata": {},
   "outputs": [],
   "source": []
  }
 ],
 "metadata": {
  "kernelspec": {
   "display_name": "Python 3 (ipykernel)",
   "language": "python",
   "name": "python3"
  },
  "language_info": {
   "codemirror_mode": {
    "name": "ipython",
    "version": 3
   },
   "file_extension": ".py",
   "mimetype": "text/x-python",
   "name": "python",
   "nbconvert_exporter": "python",
   "pygments_lexer": "ipython3",
   "version": "3.9.13"
  }
 },
 "nbformat": 4,
 "nbformat_minor": 5
}
