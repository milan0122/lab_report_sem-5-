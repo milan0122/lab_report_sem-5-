{
 "cells": [
  {
   "cell_type": "code",
   "execution_count": 14,
   "id": "7bddbf41",
   "metadata": {},
   "outputs": [
    {
     "name": "stdout",
     "output_type": "stream",
     "text": [
      "enter the number5\n",
      "enter the second number10\n",
      "The GCD of two number 5 and 10 is  5\n"
     ]
    }
   ],
   "source": [
    "# gcd of two numbers by Euclid's algorithm:\n",
    "def gcd(n,m):\n",
    "    if m == 0:\n",
    "        return n\n",
    "    else:\n",
    "        return gcd(n,n%m)\n",
    "def main():\n",
    "    x = int(input(\"enter the number\"))\n",
    "    y = int(input(\"enter the second number\"))\n",
    "    c = gcd(x,y)\n",
    "    print(f\"The GCD of two number {x} and {y} is \",c)\n",
    "main()"
   ]
  },
  {
   "cell_type": "code",
   "execution_count": 17,
   "id": "80588578",
   "metadata": {},
   "outputs": [
    {
     "name": "stdout",
     "output_type": "stream",
     "text": [
      "enter the number36\n",
      "enter the second number24\n",
      "GCD:: 12\n"
     ]
    }
   ],
   "source": [
    "#gcd of two number using iterative function:\n",
    "def gcd(a,b):\n",
    "    if a == 0:\n",
    "        print(\"GCD::\",b)\n",
    "    elif b == 0:\n",
    "        print(\"GCD::\", a)\n",
    "    else:\n",
    "        while b != 0:\n",
    "            r = a % b\n",
    "            a = b\n",
    "            b = r\n",
    "        print(\"GCD::\",a)\n",
    "x = int(input(\"enter the number::\"))\n",
    "y = int(input(\"enter the second number::\"))\n",
    "gcd(x,y)\n"
   ]
  },
  {
   "cell_type": "code",
   "execution_count": 23,
   "id": "351dea9b",
   "metadata": {},
   "outputs": [
    {
     "name": "stdout",
     "output_type": "stream",
     "text": [
      "enter the number of terms of fibonacci series to be printed ::5\n",
      "0\n",
      "1\n",
      "1\n",
      "2\n",
      "3\n"
     ]
    }
   ],
   "source": [
    "# Fibonacci Series\n",
    "def fib(x,y,n):\n",
    "    while n != 0:\n",
    "        r = x + y\n",
    "        x = y\n",
    "        y = r\n",
    "        n = n - 1\n",
    "        print(r,\",\")\n",
    "    \n",
    "x = 0\n",
    "y = 1\n",
    "n = int(input(\"enter the number of terms of fibonacci series to be printed ::\"))\n",
    "print(x)\n",
    "print(y)\n",
    "fib(x,y,n-2)"
   ]
  },
  {
   "cell_type": "code",
   "execution_count": 1,
   "id": "a7e88826",
   "metadata": {},
   "outputs": [
    {
     "name": "stdout",
     "output_type": "stream",
     "text": [
      "enter the how many element you want to insert::3\n",
      "enter the value:2\n",
      "enter the value:4\n",
      "enter the value:5\n",
      "[2, 4, 5]\n"
     ]
    }
   ],
   "source": [
    "#Sequential serach\n",
    "#def sequential(x):\n",
    "    #pass\n",
    "slist = []\n",
    "n = int(input(\"enter the how many element you want to insert::\"))\n",
    "for x in range(n):\n",
    "    x = int(input(\"enter the value:\"))\n",
    "    slist.append(x)\n",
    "print(slist)"
   ]
  },
  {
   "cell_type": "code",
   "execution_count": 5,
   "id": "21a3c554",
   "metadata": {},
   "outputs": [
    {
     "name": "stdout",
     "output_type": "stream",
     "text": [
      "enter the searching element30\n",
      "element is not found\n"
     ]
    }
   ],
   "source": [
    "y = int(input(\"enter the searching element\"))\n",
    "slist = [4,6,7,2,9,90,234,23,400]\n",
    "\n",
    "if y in slist:\n",
    "    print(\"element is found\")\n",
    "else:\n",
    "    print(\"element is not found\")"
   ]
  },
  {
   "cell_type": "markdown",
   "id": "e7f419d3",
   "metadata": {},
   "source": [
    "### Bubble sort\n"
   ]
  },
  {
   "cell_type": "code",
   "execution_count": 3,
   "id": "5dcf779f",
   "metadata": {},
   "outputs": [
    {
     "name": "stdout",
     "output_type": "stream",
     "text": [
      "enter the numbers of elements::5\n",
      "enter the numbers:\n",
      "5\n",
      "6\n",
      "2\n",
      "4\n",
      "3\n",
      "orginal list: [5, 6, 2, 4, 3]\n",
      "\n",
      "Sorted Array: [2, 3, 4, 5, 6]\n",
      "\n",
      "Number of steps: 10\n"
     ]
    }
   ],
   "source": [
    "class bubblesort:\n",
    "    def __init__(self,arr):\n",
    "        self.arr=arr\n",
    "        self.step=0\n",
    "    def bsort(self):\n",
    "        n = len(self.arr)\n",
    "        for i in range(n):\n",
    "            swapped = False\n",
    "            for j in range(0,n-i-1):\n",
    "                self.step += 1\n",
    "                if self.arr[j] > self.arr[j +1]:\n",
    "                    self.arr[j], self.arr[j+1] = self.arr[j+1],self.arr[j]\n",
    "                    swapped = True\n",
    "            if not swapped:\n",
    "                    break\n",
    "    def display(self):\n",
    "        return self.arr\n",
    "    def get_steps(self):\n",
    "        return self.step\n",
    "my_list = []\n",
    "n = int(input(\"enter the numbers of elements::\"))\n",
    "print(\"enter the numbers:\")\n",
    "for i in range(n):\n",
    "    x = int(input())\n",
    "    my_list.append(x)\n",
    "print(\"orginal list:\",my_list)\n",
    "bubble_sort = bubblesort(my_list)\n",
    "bubble_sort.bsort()\n",
    "print(\"\\nSorted Array:\",bubble_sort.display())\n",
    "print(\"\\nNumber of steps:\",bubble_sort.get_steps())"
   ]
  },
  {
   "cell_type": "code",
   "execution_count": 4,
   "id": "0004e7ee",
   "metadata": {},
   "outputs": [
    {
     "name": "stdout",
     "output_type": "stream",
     "text": [
      "Orginal list::  [5, 4, 7, 1, 8, 4, 2]\n",
      "Sorted list::  [1, 2, 4, 4, 5, 7, 8]\n",
      "Steps taken::  21\n"
     ]
    }
   ],
   "source": [
    "#implementation of selection sort and their emprical analysis\n",
    "def selection_sort(arr,n):\n",
    "    steps = 0\n",
    "    for i in range(n):\n",
    "        index = i\n",
    "        temp = arr[i]\n",
    "        for j in range(i+1,n):\n",
    "            steps += 1#couting each comparison as a step\n",
    "            if(arr[j]<temp):\n",
    "                index = j\n",
    "                temp = arr[j]\n",
    "        #swapping the element\n",
    "        arr[i],arr[index]=arr[index],arr[i]\n",
    "    return arr,steps\n",
    "my_list = [5,4,7,1,8,4,2]\n",
    "n = len(my_list)\n",
    "print(\"Orginal list:: \",my_list)\n",
    "sorted_list,steps_taken = selection_sort(my_list,n)\n",
    "\n",
    "print(\"Sorted list:: \",sorted_list)\n",
    "print(\"Steps taken:: \",steps_taken)"
   ]
  },
  {
   "cell_type": "markdown",
   "id": "32a084f0",
   "metadata": {},
   "source": [
    "### Insertion sort"
   ]
  },
  {
   "cell_type": "code",
   "execution_count": 5,
   "id": "3fedec95",
   "metadata": {},
   "outputs": [
    {
     "name": "stdout",
     "output_type": "stream",
     "text": [
      "Orginal list::  [5, 4, 7, 1, 8, 4, 2, 6, 9, 3]\n",
      "Sorted list:: [1, 2, 3, 4, 4, 5, 6, 7, 8, 9]\n",
      "Steps taken::  21\n"
     ]
    }
   ],
   "source": [
    "def insertion_sort(arr,n):\n",
    "    steps = 0\n",
    "    for i in range(n):\n",
    "        j = i-1\n",
    "        temp = arr[i]\n",
    "        while j>=0 and arr[j]>temp:\n",
    "            steps +=1\n",
    "            arr[j+1]=arr[j]\n",
    "            j = j-1\n",
    "        arr[j+1]=temp\n",
    "    return arr,steps\n",
    "my_list = [5,4,7,1,8,4,2,6,9,3]\n",
    "n = len(my_list)\n",
    "print(\"Orginal list:: \",my_list)\n",
    "sorted_list,steps_taken = insertion_sort(my_list,n)\n",
    "print(\"Sorted list::\",sorted_list)\n",
    "print(\"Steps taken:: \",steps_taken)"
   ]
  },
  {
   "cell_type": "code",
   "execution_count": 22,
   "id": "d4dc8dda",
   "metadata": {},
   "outputs": [
    {
     "name": "stdout",
     "output_type": "stream",
     "text": [
      "Original list: [2, 34, 56, 73, 22, 34, 6, 4, 7]\n",
      "Min: 2 Max: 73\n"
     ]
    }
   ],
   "source": [
    "#implementation of divide and conquer approach to find minimum and maximum number in list\n",
    "def MinMax(l, r, a):\n",
    "    if l == r:\n",
    "        return a[l], a[l]\n",
    "    elif l == r - 1:\n",
    "        return (a[l], a[r]) if a[l] < a[r] else (a[r], a[l])\n",
    "    else:\n",
    "        # divide the problem\n",
    "        mid = (l + r) // 2\n",
    "        # solve the subproblems\n",
    "        min1, max1 = MinMax(l, mid, a)\n",
    "        min2, max2 = MinMax(mid + 1, r, a)\n",
    "        # combine the solutions\n",
    "        return min(min1, min2), max(max1, max2)\n",
    "\n",
    "my_list = [2,34,56,73,22,34,6,4,7]\n",
    "n = len(my_list)\n",
    "print(\"Original list:\", my_list)\n",
    "min_val, max_val = MinMax(0, n - 1, my_list)\n",
    "print(\"Min:\", min_val, \"Max:\", max_val)\n"
   ]
  },
  {
   "cell_type": "code",
   "execution_count": 38,
   "id": "ab234ecf",
   "metadata": {},
   "outputs": [
    {
     "name": "stdout",
     "output_type": "stream",
     "text": [
      "Original list: [5, 4, 7, 1, 8, 4, 2, 6, 9, 3]\n",
      "Sorted list: [1, 2, 3, 4, 4, 5, 6, 7, 8, 9]\n"
     ]
    }
   ],
   "source": [
    "def Quick_Sort(arr, l, r):\n",
    "    if l < r:\n",
    "        p = Partition(arr, l, r)\n",
    "        Quick_Sort(arr, l, p - 1)\n",
    "        Quick_Sort(arr, p + 1, r)\n",
    "\n",
    "def Partition(arr, l, r):\n",
    "    x = l\n",
    "    y = r\n",
    "    p = arr[l]\n",
    "\n",
    "    while x < y:\n",
    "        while x < r and arr[x] <= p:\n",
    "            x += 1\n",
    "        while y > l and arr[y] >= p:\n",
    "            y -= 1\n",
    "        if x < y:\n",
    "            arr[x], arr[y] = arr[y], arr[x]\n",
    "            \n",
    "\n",
    "    arr[l] = arr[y]\n",
    "    arr[y] = p\n",
    "\n",
    "    return y\n",
    "\n",
    "my_list = [5, 4, 7, 1, 8, 4, 2, 6, 9, 3]\n",
    "n = len(my_list)\n",
    "print(\"Original list:\", my_list)\n",
    "Quick_Sort(my_list, 0, n - 1)\n",
    "\n",
    "print(\"Sorted list:\", my_list)\n",
    "\n"
   ]
  },
  {
   "cell_type": "code",
   "execution_count": 51,
   "id": "74028e31",
   "metadata": {},
   "outputs": [
    {
     "name": "stdout",
     "output_type": "stream",
     "text": [
      "Sorted array: [1, 7, 10, 15, 20, 23, 25, 54, 77, 90]\n"
     ]
    }
   ],
   "source": [
    "#implementation of heap sort\n",
    "def heapify(arr, n, i):\n",
    "    largest = i\n",
    "    l = 2 * i + 1\n",
    "    r = 2 * i + 2\n",
    "\n",
    "    if l < n and arr[l] > arr[largest]:\n",
    "        largest = l\n",
    "\n",
    "    if r < n and arr[r] > arr[largest]:\n",
    "        largest = r\n",
    "\n",
    "    if largest != i:\n",
    "        arr[i], arr[largest] = arr[largest], arr[i]\n",
    "        heapify(arr, n, largest)\n",
    "\n",
    "def heap_sort(arr):\n",
    "    n = len(arr)\n",
    "\n",
    "    # Build a max heap\n",
    "    for i in range(n // 2 - 1, -1, -1):\n",
    "        heapify(arr, n, i)\n",
    "\n",
    "    # Extract elements one by one\n",
    "    for i in range(n - 1, 0, -1):\n",
    "        arr[i], arr[0] = arr[0], arr[i]  # Swap\n",
    "        heapify(arr, i, 0)\n",
    "\n",
    "arr = [20, 7, 1, 54, 10, 15, 90, 23, 77, 25]\n",
    "heap_sort(arr)\n",
    "\n",
    "print(\"Sorted array:\", arr)\n"
   ]
  },
  {
   "cell_type": "code",
   "execution_count": 53,
   "id": "00d05d86",
   "metadata": {},
   "outputs": [
    {
     "name": "stdout",
     "output_type": "stream",
     "text": [
      "Cost of Multiplication:ggggg 82\n"
     ]
    }
   ],
   "source": [
    "#implementation of matrix chain multiplication\n",
    "def multiplication_cost(p, n):\n",
    "    m = [[0] * n for _ in range(n)]\n",
    "\n",
    "    for i in range(1, n):\n",
    "        m[i][i] = 0\n",
    "\n",
    "    for l in range(2, n):\n",
    "        for i in range(1, n - l + 1):\n",
    "            j = i + l - 1\n",
    "            m[i][j] = float('inf')\n",
    "            for k in range(i, j):\n",
    "                c = m[i][k] + m[k + 1][j] + p[i - 1] * p[k] * p[j]\n",
    "                if c < m[i][j]:\n",
    "                    m[i][j] = c\n",
    "\n",
    "    return m[1][n - 1]\n",
    "\n",
    "arr = [3, 4, 5, 2, 3]\n",
    "result = multiplication_cost(arr, len(arr))\n",
    "print(\"Cost of Multiplication:\", result)\n"
   ]
  },
  {
   "cell_type": "code",
   "execution_count": null,
   "id": "f86a3f45",
   "metadata": {},
   "outputs": [],
   "source": [
    "\n",
    "    \n",
    "    "
   ]
  },
  {
   "cell_type": "code",
   "execution_count": null,
   "id": "b7f5c9c0",
   "metadata": {},
   "outputs": [],
   "source": []
  }
 ],
 "metadata": {
  "kernelspec": {
   "display_name": "Python 3 (ipykernel)",
   "language": "python",
   "name": "python3"
  },
  "language_info": {
   "codemirror_mode": {
    "name": "ipython",
    "version": 3
   },
   "file_extension": ".py",
   "mimetype": "text/x-python",
   "name": "python",
   "nbconvert_exporter": "python",
   "pygments_lexer": "ipython3",
   "version": "3.9.13"
  }
 },
 "nbformat": 4,
 "nbformat_minor": 5
}
