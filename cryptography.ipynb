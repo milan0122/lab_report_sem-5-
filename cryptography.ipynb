{
 "cells": [
  {
   "cell_type": "code",
   "execution_count": 9,
   "id": "ffe2fa7d",
   "metadata": {},
   "outputs": [
    {
     "name": "stdout",
     "output_type": "stream",
     "text": [
      "enter the string::milan\n",
      "enter the key value::5\n",
      "Encrypted text:: rnqfs\n",
      "Decrypted text:: milan\n"
     ]
    }
   ],
   "source": [
    "# implementation of caesar cipher\n",
    "def caesar_encrypt(ptext,key):\n",
    "    result= \"\"\n",
    "    for i in range(len(ptext)):\n",
    "        c_text = ptext[i] \n",
    "    # Encrypt uppercase characters\n",
    "        if (c_text.isupper()):\n",
    "#The Python ord() function converts a character into an integer that represents the Unicode code of the character. \n",
    "#Similarly, the chr() function converts a Unicode code character into the corresponding string.\n",
    "            result += chr((ord(c_text) + key-65) % 26 + 65)\n",
    " \n",
    "        # Encrypt lowercase characters\n",
    "        else:\n",
    "            result += chr((ord(c_text) + key - 97) % 26 + 97)\n",
    "    return result\n",
    "def caesar_decrypt(ctext,key):\n",
    "    result= \"\"\n",
    "    for i in range(len(ctext)):\n",
    "        p_text = ctext[i] \n",
    "    # Decrypt uppercase characters\n",
    "        if (p_text.isupper()):\n",
    "#The Python ord() function converts a character into an integer that represents the Unicode code of the character. \n",
    "#Similarly, the chr() function converts a Unicode code character into the corresponding string.\n",
    "            result += chr((ord(p_text) - key-65) % 26 + 65)\n",
    " \n",
    "        # Decrypt lowercase characters\n",
    "        else:\n",
    "            result += chr((ord(p_text) - key - 97) % 26 + 97)\n",
    "    return result\n",
    "    \n",
    "\n",
    "\n",
    "# let's get plain text and it's key value from user\n",
    "ptext = input(\"enter the string::\")\n",
    "key = int(input(\"enter the key value::\"))\n",
    "cipher_text=caesar_encrypt(ptext,key)\n",
    "plain_text = caesar_decrypt(cipher_text,key)\n",
    "print(\"Encrypted text::\",cipher_text)\n",
    "print(\"Decrypted text::\",plain_text)\n"
   ]
  },
  {
   "cell_type": "code",
   "execution_count": null,
   "id": "2b389258",
   "metadata": {},
   "outputs": [],
   "source": [
    "# now we can encrypt and decrypt using python library fernet\n",
    "from cryptography.fernet import Fernet\n",
    "\n",
    "message = \"Password!!\"\n",
    "key = Fernet.generate_key()\n",
    "fernet = Fernet(key)\n",
    "# let's encrypt the given message\n",
    "encmessage = fernet.encrypt(message.encode())\n",
    "print(message)\n",
    "print(encmessage)\n",
    "\n",
    "decmessage = fernet.decrypt(encmessage).decode()\n",
    "print(decmessage)"
   ]
  },
  {
   "cell_type": "code",
   "execution_count": null,
   "id": "cd3a4722",
   "metadata": {},
   "outputs": [],
   "source": [
    "b'gAAAAABkxMGkSv16CJkFAaNAT4qcEp752lPuDGZ2NvVXETs2EoH0kLrscXLXgCUV92zq9JrNSX2BHMx1_wCSnA6TuX0II25cWw=='"
   ]
  },
  {
   "cell_type": "code",
   "execution_count": null,
   "id": "82688b97",
   "metadata": {},
   "outputs": [],
   "source": [
    "a =\"s\"\n",
    "print(chr((ord('a')+3-97)%26+97))"
   ]
  },
  {
   "cell_type": "code",
   "execution_count": null,
   "id": "f598f23a",
   "metadata": {},
   "outputs": [],
   "source": [
    "print(chr((ord('d')-3-97)%26+97))"
   ]
  },
  {
   "cell_type": "code",
   "execution_count": null,
   "id": "6831b3a6",
   "metadata": {},
   "outputs": [],
   "source": [
    "for i in range(6):\n",
    "    print(i+2)"
   ]
  },
  {
   "cell_type": "code",
   "execution_count": null,
   "id": "7e0011f7",
   "metadata": {},
   "outputs": [],
   "source": [
    "def factorial(n):\n",
    "  \"\"\"Returns the factorial of a number.\"\"\"\n",
    "  if n < 0:\n",
    "    return -1\n",
    "  else:\n",
    "    return 1 if n == 0 else n * factorial(n - 1)\n",
    "\n",
    "n = int(input(\"enter the number::\"))\n",
    "factorial(n)"
   ]
  },
  {
   "cell_type": "code",
   "execution_count": null,
   "id": "b3f6a074",
   "metadata": {},
   "outputs": [],
   "source": [
    "key = 5"
   ]
  },
  {
   "cell_type": "code",
   "execution_count": null,
   "id": "1947a1f9",
   "metadata": {},
   "outputs": [],
   "source": [
    "c = chr((ord('a')+key-97)% 26 + 97)"
   ]
  },
  {
   "cell_type": "code",
   "execution_count": null,
   "id": "cce8f462",
   "metadata": {},
   "outputs": [],
   "source": [
    "print(c)"
   ]
  },
  {
   "cell_type": "code",
   "execution_count": null,
   "id": "688f32b7",
   "metadata": {},
   "outputs": [],
   "source": [
    "d = chr((ord('f')-key-97)%26+97)"
   ]
  },
  {
   "cell_type": "code",
   "execution_count": null,
   "id": "d2b82828",
   "metadata": {},
   "outputs": [],
   "source": [
    "print(d)"
   ]
  },
  {
   "cell_type": "code",
   "execution_count": null,
   "id": "c2e1d270",
   "metadata": {},
   "outputs": [],
   "source": [
    "ptext = \"milan\"\n",
    "for i in (len(ptext)):\n",
    "    #print(ptext[i])\n",
    "        c_text = ptext[i] "
   ]
  },
  {
   "cell_type": "code",
   "execution_count": null,
   "id": "2617fffa",
   "metadata": {},
   "outputs": [],
   "source": [
    "print(c_text)"
   ]
  },
  {
   "cell_type": "markdown",
   "id": "a9854f35",
   "metadata": {},
   "source": [
    "### mulcative inverse "
   ]
  },
  {
   "cell_type": "code",
   "execution_count": null,
   "id": "6d99db53",
   "metadata": {},
   "outputs": [],
   "source": [
    "def ex_euclid(a,b):\n",
    "    x1,x2,y1,y2=0,1,1,0\n",
    "    if a== 0:\n",
    "        return b,x1,y1\n",
    "    else:\n",
    "        while a!=0:\n",
    "            q,r = b//a,b%a\n",
    "            x,y = x1 - x2*q, y1-y2*q\n",
    "            b = a\n",
    "            a = r\n",
    "            x1, x2 = x2,x\n",
    "            y1,y2= y2,y\n",
    "        return b,x1,y1\n",
    "#now calculating multicative inverse of a modulo b\n",
    "def modinv(a,b):\n",
    "    g,x,y = ex_euclid(a,b)\n",
    "    if g!=1 or g==0:\n",
    "#        \n",
    "        raise ValueError(\"Modular inverse doesn't exist\")\n",
    "    else:\n",
    "        return x % b\n",
    "\n",
    "a = int(input(\"enter value for calcualte multicative inverse::\"))\n",
    "b = int(input(\"enter the modulus::\"))\n",
    "try:\n",
    "    inverse = modinv(a,b)\n",
    "    print(f\"The multicative inverse of {a} mod {b} is {inverse}\")\n",
    "except ValueError as e:\n",
    "    print(e)"
   ]
  },
  {
   "cell_type": "code",
   "execution_count": null,
   "id": "79b55023",
   "metadata": {},
   "outputs": [],
   "source": [
    "#implementation of Miller_Rabin algorithm to check prime number\n",
    "import random\n",
    "\n",
    "def MR_prime_test(n):\n",
    "    # calculating value of k and m satisfying relation n-1 = 2^k * m\n",
    "    k, m = 0, n - 1\n",
    "    while m % 2 == 0:\n",
    "        k += 1\n",
    "        m //= 2\n",
    "\n",
    "    # finding value of a\n",
    "    a = random.randint(2, n - 2)\n",
    "    b = pow(a, m, n)\n",
    "    x = b % n\n",
    "    if x == 1 or x == n - 1:\n",
    "        return True\n",
    "    else:\n",
    "        for i in range(k - 1):\n",
    "            x = pow(x, 2, n)\n",
    "            if x == n - 1:\n",
    "                return True\n",
    "        return False\n",
    "\n",
    "n = 9822823371\n",
    "if MR_prime_test(n):\n",
    "    print(\"Prime number\")\n",
    "else:\n",
    "    print(\"Composite number\")\n",
    "    "
   ]
  },
  {
   "cell_type": "code",
   "execution_count": null,
   "id": "1b090751",
   "metadata": {},
   "outputs": [],
   "source": [
    "#implementation of diffle_hellman key exchange algorithm"
   ]
  },
  {
   "cell_type": "code",
   "execution_count": null,
   "id": "c63b445f",
   "metadata": {},
   "outputs": [],
   "source": [
    "def generate_public_key(private_key, g, p):\n",
    "    # Compute the public key using the provided private key, primitive root, and prime modulus\n",
    "    public_key = (g ** private_key) % p\n",
    "    return public_key\n",
    "\n",
    "def compute_shared_secret(private_key, other_public_key, p):\n",
    "    # Compute the shared secret using the provided private key and the other party's public key\n",
    "    shared_secret = (other_public_key ** private_key) % p\n",
    "    return shared_secret\n",
    "\n",
    "# Example usage\n",
    "# Alice's private key and public key\n",
    "alice_private_key = 7\n",
    "g = 5\n",
    "p = 23\n",
    "alice_public_key = generate_public_key(alice_private_key, g, p)\n",
    "\n",
    "# Bob's private key and public key\n",
    "bob_private_key = 11\n",
    "bob_public_key = generate_public_key(bob_private_key, g, p)\n",
    "\n",
    "# Exchange public keys\n",
    "shared_secret_alice = compute_shared_secret(alice_private_key, bob_public_key, p)\n",
    "shared_secret_bob = compute_shared_secret(bob_private_key, alice_public_key, p)\n",
    "\n",
    "# The shared secrets should be the same for both parties\n",
    "print(\"Shared Secret (Alice):\", shared_secret_alice)\n",
    "print(\"Shared Secret (Bob):\", shared_secret_bob)\n"
   ]
  },
  {
   "cell_type": "code",
   "execution_count": null,
   "id": "cf420ebb",
   "metadata": {},
   "outputs": [],
   "source": [
    "#checking whether the number is primitive root or not\n",
    "def check_primitive_root(n,x):\n",
    "    a = []\n",
    "    for i in range(1,n):\n",
    "        y= (x**i)%n\n",
    "        a.append(y)\n",
    "    a1 = set(a)\n",
    "    if len(a)==len(a1):\n",
    "        print(f\"{x} is primitive root of {n}\")\n",
    "    else:\n",
    "        print(f\"{x} is not a primitive root of {n}\")\n",
    "   \n",
    "    \n",
    "\n",
    "n = 23\n",
    "x = 3\n",
    "check_primitive_root(n,x)\n",
    "\n",
    "\n"
   ]
  },
  {
   "cell_type": "code",
   "execution_count": null,
   "id": "14d953aa",
   "metadata": {},
   "outputs": [],
   "source": [
    "#implementation of RSA key generation, encryption and decryption\n",
    "import random\n",
    "p = 11\n",
    "q = 7\n",
    "n = p*q\n",
    "x = (p-1)*(q-1)\n",
    "e = random.randint(2,x)\n",
    "# e is used as public key exponent\n",
    "def calcualte_private_exponent(e,x):\n",
    "    d = pow(e,-1,x)\n",
    "    return d\n",
    "print(calcualte_private_exponent(e,x))\n",
    "\n"
   ]
  },
  {
   "cell_type": "code",
   "execution_count": null,
   "id": "ffe0f9b4",
   "metadata": {},
   "outputs": [],
   "source": [
    "def calculate_private_exponent(e, phi_n):\n",
    "    # Calculate the modular inverse of e (mod phi(n)) to get d\n",
    "    d = pow(e, -1, phi_n)\n",
    "    return d\n",
    "\n",
    "# Example usage\n",
    "e = random.randint(1,phi_n)  # Public exponent\n",
    "n = 3233   # Modulus (in a real-world scenario, use a larger prime modulus)\n",
    "phi_n = 3120  # Euler's totient function of n\n",
    "\n",
    "# Calculate the private exponent\n",
    "d = calculate_private_exponent(e, phi_n)\n",
    "\n",
    "print(\"Public Exponent (e):\", e)\n",
    "print(\"Private Exponent (d):\", d)\n",
    "print(\"Modulus (n):\", n)\n"
   ]
  },
  {
   "cell_type": "code",
   "execution_count": 15,
   "id": "6ec8ebc6",
   "metadata": {},
   "outputs": [
    {
     "name": "stdout",
     "output_type": "stream",
     "text": [
      "Public Key (e, n): (65537, 3233)\n",
      "Private Key (d, n): (2753, 3233)\n"
     ]
    }
   ],
   "source": [
    "\n",
    "from random import randint\n",
    "\n",
    "\n",
    "def calculate_private_exponent(e, phi_n):\n",
    "    # Calculate the modular inverse of e (mod phi(n)) to get d\n",
    "    d = pow(e, -1, phi_n)\n",
    "    return d\n",
    "def generate_key_pair():\n",
    "    # Step 1: Choose two large prime numbers, p and q\n",
    "    p = 61\n",
    "    q = 53\n",
    "\n",
    "    # Step 2: Compute n (modulus) and phi(n) (Euler's totient function)\n",
    "    n = p * q\n",
    "    phi_n = (p - 1) * (q - 1)\n",
    "\n",
    "    # Step 3: Choose a public exponent e\n",
    "    # Common choices include 65537 or a random prime\n",
    "    e = 65537\n",
    "\n",
    "    # Step 4: Compute the private exponent d using the modular inverse of e (mod phi(n))\n",
    "    d = calculate_private_exponent(e, phi_n)\n",
    "\n",
    "    return (e, n), (d, n)\n",
    "\n",
    "# Example usage\n",
    "public_key, private_key = generate_key_pair()\n",
    "print(\"Public Key (e, n):\", public_key)\n",
    "print(\"Private Key (d, n):\", private_key)\n",
    "\n",
    "#encryption \n"
   ]
  },
  {
   "cell_type": "code",
   "execution_count": null,
   "id": "9b7cb614",
   "metadata": {},
   "outputs": [],
   "source": [
    "\n",
    "        \n",
    "        "
   ]
  },
  {
   "cell_type": "code",
   "execution_count": 22,
   "id": "fd695f9c",
   "metadata": {},
   "outputs": [
    {
     "name": "stdout",
     "output_type": "stream",
     "text": [
      "Enter the string: csit\n",
      "Public Key (n, e): (65537, 3233)\n",
      "Encrypted Message: ęӎ౫ʹ\n",
      "Decrypted Message: csit\n"
     ]
    }
   ],
   "source": [
    "def encrypt(public_key, ptext):\n",
    "    e,n = public_key\n",
    "    result = \"\"\n",
    "    for i in range(len(ptext)):\n",
    "        char = ptext[i]\n",
    "        x = ord(char)\n",
    "        c = pow(x, e, n)\n",
    "        result += chr(c)\n",
    "    return result\n",
    "def decrypt(private_key,ctext):\n",
    "    d,n = private_key\n",
    "    result = \"\"\n",
    "    for i in range(len(ctext)):\n",
    "        char = ctext[i]\n",
    "        x = ord(char)\n",
    "        p = pow(x, d, n)\n",
    "        result += chr(p)\n",
    "    return result\n",
    "\n",
    "x = input(\"Enter the string: \")\n",
    "public_key, private_key = generate_key_pair()\n",
    "print(\"Public Key (n, e):\", public_key)\n",
    "print(\"Encrypted Message:\", encrypt(public_key, x))\n",
    "x = encrypt(public_key,x)\n",
    "print(\"Decrypted Message:\",decrypt(private_key,x))"
   ]
  },
  {
   "cell_type": "code",
   "execution_count": null,
   "id": "1d987127",
   "metadata": {},
   "outputs": [],
   "source": []
  },
  {
   "cell_type": "code",
   "execution_count": 19,
   "id": "adbd3363",
   "metadata": {},
   "outputs": [
    {
     "name": "stdout",
     "output_type": "stream",
     "text": [
      "ࣟ౫˩٠ࢻ\n",
      "110\n",
      "2235\n"
     ]
    }
   ],
   "source": [
    "ptext = \"milan\"\n",
    "\n",
    "e = 65537\n",
    "n =3233\n",
    "result = \"\"\n",
    "for i in range(len(ptext)):\n",
    "    char = ptext[i]\n",
    "    x = ord(char)\n",
    "    c = pow(x, e, n)\n",
    "    result += chr(c)\n",
    "\n",
    "print(result)\n",
    "print(x)\n",
    "print(c)"
   ]
  },
  {
   "cell_type": "code",
   "execution_count": 20,
   "id": "c37b6d6c",
   "metadata": {},
   "outputs": [
    {
     "data": {
      "text/plain": [
       "'ࢻ'"
      ]
     },
     "execution_count": 20,
     "metadata": {},
     "output_type": "execute_result"
    }
   ],
   "source": [
    "chr(2235)"
   ]
  },
  {
   "cell_type": "code",
   "execution_count": null,
   "id": "17000596",
   "metadata": {},
   "outputs": [],
   "source": []
  }
 ],
 "metadata": {
  "kernelspec": {
   "display_name": "Python 3 (ipykernel)",
   "language": "python",
   "name": "python3"
  },
  "language_info": {
   "codemirror_mode": {
    "name": "ipython",
    "version": 3
   },
   "file_extension": ".py",
   "mimetype": "text/x-python",
   "name": "python",
   "nbconvert_exporter": "python",
   "pygments_lexer": "ipython3",
   "version": "3.9.13"
  }
 },
 "nbformat": 4,
 "nbformat_minor": 5
}
