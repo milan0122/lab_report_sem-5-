{
 "cells": [
  {
   "cell_type": "code",
   "execution_count": 3,
   "id": "1b22aeaf",
   "metadata": {},
   "outputs": [
    {
     "name": "stdout",
     "output_type": "stream",
     "text": [
      "guess the number:: 7\n",
      "your guess is high\n",
      "guess the number:: 1\n",
      "your guess is low\n",
      "guess the number:: 4\n",
      "your guess is high\n",
      "guess the number:: 3\n",
      "your guess is high\n",
      "guess the number:: 2\n",
      "you win the game in 5 attempt\n"
     ]
    }
   ],
   "source": [
    "#This is simple guessing game by using random function \n",
    "# I simple use the while loop and condition to make it\n",
    "import random as r\n",
    "x = r.randint(1,10)\n",
    "choice = 0\n",
    "while choice != 5:\n",
    "    user = int(input(\"guess the number:: \"))\n",
    "    if x == user:\n",
    "        print(f\"you win the game in {choice + 1} attempt\")\n",
    "        break\n",
    "    elif x >= user:\n",
    "        print(\"your guess is low\")\n",
    "        choice = choice + 1\n",
    "        if choice == 5:\n",
    "            print(\"you loose the game\")\n",
    "            break\n",
    "    elif x <= user:\n",
    "        print(\"your guess is high\")\n",
    "        choice = choice + 1\n",
    "        if choice == 5:\n",
    "            print(\"you loose the game\")\n",
    "            break\n",
    "   "
   ]
  },
  {
   "cell_type": "code",
   "execution_count": null,
   "id": "9375e79e",
   "metadata": {},
   "outputs": [],
   "source": [
    "#"
   ]
  },
  {
   "cell_type": "code",
   "execution_count": null,
   "id": "584f3ca1",
   "metadata": {},
   "outputs": [],
   "source": [
    "ptext = input(\"enter the text::\")\n"
   ]
  },
  {
   "cell_type": "code",
   "execution_count": null,
   "id": "24e22048",
   "metadata": {},
   "outputs": [],
   "source": []
  }
 ],
 "metadata": {
  "kernelspec": {
   "display_name": "Python 3 (ipykernel)",
   "language": "python",
   "name": "python3"
  },
  "language_info": {
   "codemirror_mode": {
    "name": "ipython",
    "version": 3
   },
   "file_extension": ".py",
   "mimetype": "text/x-python",
   "name": "python",
   "nbconvert_exporter": "python",
   "pygments_lexer": "ipython3",
   "version": "3.9.13"
  }
 },
 "nbformat": 4,
 "nbformat_minor": 5
}
